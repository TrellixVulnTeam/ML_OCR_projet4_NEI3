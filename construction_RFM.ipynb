{
 "cells": [
  {
   "cell_type": "markdown",
   "id": "d8985985",
   "metadata": {},
   "source": [
    "# Segmentation RFM de la Base de données clients"
   ]
  },
  {
   "cell_type": "code",
   "execution_count": 1,
   "id": "1d154ae6",
   "metadata": {},
   "outputs": [],
   "source": [
    "import numpy as np\n",
    "import pandas as pd\n",
    "import matplotlib.pyplot as plt\n",
    "from datetime import timedelta"
   ]
  },
  {
   "cell_type": "code",
   "execution_count": 17,
   "id": "00cbd73a",
   "metadata": {
    "scrolled": true
   },
   "outputs": [
    {
     "name": "stdout",
     "output_type": "stream",
     "text": [
      "Index(['Unnamed: 0', 'product_id', 'product_name_lenght',\n",
      "       'product_description_lenght', 'product_photos_qty',\n",
      "       'product_category_name_english', 'order_id', 'customer_id',\n",
      "       'order_status', 'order_purchase_timestamp', 'customer_unique_id',\n",
      "       'customer_city', 'customer_state', 'order_item_id', 'seller_id',\n",
      "       'price', 'freight_value', 'payment_type', 'payment_installments',\n",
      "       'payment_value', 'seller_zip_code_prefix', 'seller_city',\n",
      "       'seller_state', 'year', 'month', 'day'],\n",
      "      dtype='object')\n",
      "<class 'pandas.core.frame.DataFrame'>\n",
      "RangeIndex: 115223 entries, 0 to 115222\n",
      "Data columns (total 26 columns):\n",
      " #   Column                         Non-Null Count   Dtype         \n",
      "---  ------                         --------------   -----         \n",
      " 0   Unnamed: 0                     115223 non-null  int64         \n",
      " 1   product_id                     115223 non-null  object        \n",
      " 2   product_name_lenght            115223 non-null  float64       \n",
      " 3   product_description_lenght     115223 non-null  float64       \n",
      " 4   product_photos_qty             115223 non-null  float64       \n",
      " 5   product_category_name_english  115223 non-null  object        \n",
      " 6   order_id                       115223 non-null  object        \n",
      " 7   customer_id                    115223 non-null  object        \n",
      " 8   order_status                   115223 non-null  object        \n",
      " 9   order_purchase_timestamp       115223 non-null  datetime64[ns]\n",
      " 10  customer_unique_id             115223 non-null  object        \n",
      " 11  customer_city                  115223 non-null  object        \n",
      " 12  customer_state                 115223 non-null  object        \n",
      " 13  order_item_id                  115223 non-null  int64         \n",
      " 14  seller_id                      115223 non-null  object        \n",
      " 15  price                          115223 non-null  float64       \n",
      " 16  freight_value                  115223 non-null  float64       \n",
      " 17  payment_type                   115223 non-null  object        \n",
      " 18  payment_installments           115223 non-null  int64         \n",
      " 19  payment_value                  115223 non-null  float64       \n",
      " 20  seller_zip_code_prefix         115223 non-null  int64         \n",
      " 21  seller_city                    115223 non-null  object        \n",
      " 22  seller_state                   115223 non-null  object        \n",
      " 23  year                           115223 non-null  int64         \n",
      " 24  month                          115223 non-null  int64         \n",
      " 25  day                            115223 non-null  int64         \n",
      "dtypes: datetime64[ns](1), float64(6), int64(7), object(12)\n",
      "memory usage: 22.9+ MB\n",
      "None\n"
     ]
    }
   ],
   "source": [
    "# Dl la base de données\n",
    "\n",
    "df = pd.read_csv('db_inter_avant_RFM.csv')\n",
    "df['order_purchase_timestamp'] = pd.to_datetime(df['order_purchase_timestamp'])\n",
    "print(df.columns)\n",
    "print(df.info(verbose = True))"
   ]
  },
  {
   "cell_type": "markdown",
   "id": "9a07f8e5",
   "metadata": {},
   "source": [
    "### Observation des fréquences de chaque clients"
   ]
  },
  {
   "cell_type": "code",
   "execution_count": 38,
   "id": "aeb56e21",
   "metadata": {},
   "outputs": [
    {
     "data": {
      "text/plain": [
       "f9ae226291893fda10af7965268fb7f6    35\n",
       "6fbc7cdadbb522125f4b27ae9dee4060    34\n",
       "9a736b248f67d166d2fbb006bcb877c3    30\n",
       "8af7ac63b2efbcbd88e5b11505e8098a    25\n",
       "5419a7c9b86a43d8140e2939cd2c2f7e    24\n",
       "                                    ..\n",
       "49f3c1a29bc68d07302b330b31c8b28e     1\n",
       "f15aac4645f84bde58ae87779e6494a5     1\n",
       "0551e29d87422d88feca4626c030ccef     1\n",
       "3edbdef5636cc6b1a8c4f661a8910ba2     1\n",
       "9aa5a8a2a616d12c8b2473429b1bdd1e     1\n",
       "Name: customer_unique_id, Length: 94087, dtype: int64"
      ]
     },
     "execution_count": 38,
     "metadata": {},
     "output_type": "execute_result"
    }
   ],
   "source": [
    "df['customer_unique_id'].value_counts()"
   ]
  },
  {
   "cell_type": "markdown",
   "id": "f1b84367",
   "metadata": {},
   "source": [
    "### Observation de la plage de temps de la database"
   ]
  },
  {
   "cell_type": "code",
   "execution_count": 39,
   "id": "0e1c2719",
   "metadata": {},
   "outputs": [
    {
     "name": "stdout",
     "output_type": "stream",
     "text": [
      "Orders from 2016-09-04 21:15:19 to 2018-09-03 09:06:57\n"
     ]
    }
   ],
   "source": [
    "print('Orders from {} to {}'.format(df['order_purchase_timestamp'].min(),\n",
    "                                    df['order_purchase_timestamp'].max()))"
   ]
  },
  {
   "cell_type": "code",
   "execution_count": 40,
   "id": "7d4a1bcc",
   "metadata": {},
   "outputs": [
    {
     "data": {
      "text/plain": [
       "fedcd9f7ccdc8cba3a18defedd1a5547    34\n",
       "fa65dad1b0e818e3ccc5cb0e39231352    25\n",
       "465c2e1bee4561cb39e0db8c5993aafc    24\n",
       "c6492b842ac190db807c15aff21a7dd6    24\n",
       "895ab968e7bb0d5659d16cd74cd1650c    24\n",
       "Name: order_id, dtype: int64"
      ]
     },
     "execution_count": 40,
     "metadata": {},
     "output_type": "execute_result"
    }
   ],
   "source": [
    "df['order_id'].value_counts().head()"
   ]
  },
  {
   "cell_type": "code",
   "execution_count": 41,
   "id": "c486e0d7",
   "metadata": {},
   "outputs": [
    {
     "data": {
      "text/html": [
       "<div>\n",
       "<style scoped>\n",
       "    .dataframe tbody tr th:only-of-type {\n",
       "        vertical-align: middle;\n",
       "    }\n",
       "\n",
       "    .dataframe tbody tr th {\n",
       "        vertical-align: top;\n",
       "    }\n",
       "\n",
       "    .dataframe thead th {\n",
       "        text-align: right;\n",
       "    }\n",
       "</style>\n",
       "<table border=\"1\" class=\"dataframe\">\n",
       "  <thead>\n",
       "    <tr style=\"text-align: right;\">\n",
       "      <th></th>\n",
       "      <th>order_id</th>\n",
       "      <th>order_purchase_timestamp</th>\n",
       "      <th>customer_unique_id</th>\n",
       "      <th>payment_value</th>\n",
       "    </tr>\n",
       "  </thead>\n",
       "  <tbody>\n",
       "    <tr>\n",
       "      <th>0</th>\n",
       "      <td>00010242fe8c5a6d1ba2dd792cb16214</td>\n",
       "      <td>2017-09-13 08:59:02</td>\n",
       "      <td>871766c5855e863f6eccc05f988b23cb</td>\n",
       "      <td>72.19</td>\n",
       "    </tr>\n",
       "    <tr>\n",
       "      <th>1</th>\n",
       "      <td>00018f77f2f0320c557190d7a144bdd3</td>\n",
       "      <td>2017-04-26 10:53:06</td>\n",
       "      <td>eb28e67c4c0b83846050ddfb8a35d051</td>\n",
       "      <td>259.83</td>\n",
       "    </tr>\n",
       "    <tr>\n",
       "      <th>2</th>\n",
       "      <td>000229ec398224ef6ca0657da4fc703e</td>\n",
       "      <td>2018-01-14 14:33:31</td>\n",
       "      <td>3818d81c6709e39d06b2738a8d3a2474</td>\n",
       "      <td>216.87</td>\n",
       "    </tr>\n",
       "    <tr>\n",
       "      <th>3</th>\n",
       "      <td>00024acbcdf0a6daa1e931b038114c75</td>\n",
       "      <td>2018-08-08 10:00:35</td>\n",
       "      <td>af861d436cfc08b2c2ddefd0ba074622</td>\n",
       "      <td>25.78</td>\n",
       "    </tr>\n",
       "    <tr>\n",
       "      <th>4</th>\n",
       "      <td>00042b26cf59d7ce69dfabb4e55b4fd9</td>\n",
       "      <td>2017-02-04 13:57:51</td>\n",
       "      <td>64b576fb70d441e8f1b2d7d446e483c5</td>\n",
       "      <td>218.04</td>\n",
       "    </tr>\n",
       "  </tbody>\n",
       "</table>\n",
       "</div>"
      ],
      "text/plain": [
       "                           order_id order_purchase_timestamp  \\\n",
       "0  00010242fe8c5a6d1ba2dd792cb16214      2017-09-13 08:59:02   \n",
       "1  00018f77f2f0320c557190d7a144bdd3      2017-04-26 10:53:06   \n",
       "2  000229ec398224ef6ca0657da4fc703e      2018-01-14 14:33:31   \n",
       "3  00024acbcdf0a6daa1e931b038114c75      2018-08-08 10:00:35   \n",
       "4  00042b26cf59d7ce69dfabb4e55b4fd9      2017-02-04 13:57:51   \n",
       "\n",
       "                 customer_unique_id  payment_value  \n",
       "0  871766c5855e863f6eccc05f988b23cb          72.19  \n",
       "1  eb28e67c4c0b83846050ddfb8a35d051         259.83  \n",
       "2  3818d81c6709e39d06b2738a8d3a2474         216.87  \n",
       "3  af861d436cfc08b2c2ddefd0ba074622          25.78  \n",
       "4  64b576fb70d441e8f1b2d7d446e483c5         218.04  "
      ]
     },
     "execution_count": 41,
     "metadata": {},
     "output_type": "execute_result"
    }
   ],
   "source": [
    "orders = df.groupby(['order_id', 'order_purchase_timestamp', 'customer_unique_id']).agg({'payment_value': lambda x: x.sum()}).reset_index()\n",
    "orders.head()"
   ]
  },
  {
   "cell_type": "code",
   "execution_count": 42,
   "id": "aee2c921",
   "metadata": {},
   "outputs": [
    {
     "data": {
      "text/plain": [
       "Timestamp('2018-09-04 09:06:57')"
      ]
     },
     "execution_count": 42,
     "metadata": {},
     "output_type": "execute_result"
    }
   ],
   "source": [
    "# On considère que la date actuelle correspond à l'horaire du dernier achat pour calculer les deltas de temps\n",
    "\n",
    "NOW = orders['order_purchase_timestamp'].max() + timedelta(days=1)\n",
    "period = 365 * 2 #Plage des achats = 2 ans\n",
    "NOW"
   ]
  },
  {
   "cell_type": "code",
   "execution_count": 43,
   "id": "0adddc37",
   "metadata": {},
   "outputs": [],
   "source": [
    "orders['DaysSinceOrder'] = orders['order_purchase_timestamp'].apply(lambda x: (NOW - x).days)"
   ]
  },
  {
   "cell_type": "markdown",
   "id": "9b4dc707",
   "metadata": {},
   "source": [
    "### Calcul de la Frequency et de la Recensy de chaque customer"
   ]
  },
  {
   "cell_type": "code",
   "execution_count": 44,
   "id": "040cb48b",
   "metadata": {
    "scrolled": true
   },
   "outputs": [
    {
     "data": {
      "text/html": [
       "<div>\n",
       "<style scoped>\n",
       "    .dataframe tbody tr th:only-of-type {\n",
       "        vertical-align: middle;\n",
       "    }\n",
       "\n",
       "    .dataframe tbody tr th {\n",
       "        vertical-align: top;\n",
       "    }\n",
       "\n",
       "    .dataframe thead th {\n",
       "        text-align: right;\n",
       "    }\n",
       "</style>\n",
       "<table border=\"1\" class=\"dataframe\">\n",
       "  <thead>\n",
       "    <tr style=\"text-align: right;\">\n",
       "      <th></th>\n",
       "      <th>customer_unique_id</th>\n",
       "      <th>Recency</th>\n",
       "      <th>Frequency</th>\n",
       "    </tr>\n",
       "  </thead>\n",
       "  <tbody>\n",
       "    <tr>\n",
       "      <th>0</th>\n",
       "      <td>0000366f3b9a7992bf8c76cfdf3221e2</td>\n",
       "      <td>116</td>\n",
       "      <td>1</td>\n",
       "    </tr>\n",
       "    <tr>\n",
       "      <th>1</th>\n",
       "      <td>0000b849f77a49e4a4ce2b2a4ca5be3f</td>\n",
       "      <td>119</td>\n",
       "      <td>1</td>\n",
       "    </tr>\n",
       "    <tr>\n",
       "      <th>2</th>\n",
       "      <td>0000f46a3911fa3c0805444483337064</td>\n",
       "      <td>542</td>\n",
       "      <td>1</td>\n",
       "    </tr>\n",
       "    <tr>\n",
       "      <th>3</th>\n",
       "      <td>0000f6ccb0745a6a4b88665a16c9f078</td>\n",
       "      <td>326</td>\n",
       "      <td>1</td>\n",
       "    </tr>\n",
       "    <tr>\n",
       "      <th>4</th>\n",
       "      <td>0004aac84e0df4da2b147fca70cf8255</td>\n",
       "      <td>293</td>\n",
       "      <td>1</td>\n",
       "    </tr>\n",
       "  </tbody>\n",
       "</table>\n",
       "</div>"
      ],
      "text/plain": [
       "                 customer_unique_id  Recency  Frequency\n",
       "0  0000366f3b9a7992bf8c76cfdf3221e2      116          1\n",
       "1  0000b849f77a49e4a4ce2b2a4ca5be3f      119          1\n",
       "2  0000f46a3911fa3c0805444483337064      542          1\n",
       "3  0000f6ccb0745a6a4b88665a16c9f078      326          1\n",
       "4  0004aac84e0df4da2b147fca70cf8255      293          1"
      ]
     },
     "execution_count": 44,
     "metadata": {},
     "output_type": "execute_result"
    }
   ],
   "source": [
    "aggr = {\n",
    "    'DaysSinceOrder': lambda x: x.min(),  # the number of days since last order (Recency)\n",
    "    'order_purchase_timestamp': lambda x: len([d for d in x if d >= NOW - timedelta(days=period)]), # the total number of orders in the last period (Frequency)\n",
    "}\n",
    "rfm = orders.groupby('customer_unique_id').agg(aggr).reset_index()\n",
    "rfm.rename(columns={'DaysSinceOrder': 'Recency', 'order_purchase_timestamp': 'Frequency'}, inplace=True)\n",
    "rfm.head()"
   ]
  },
  {
   "cell_type": "code",
   "execution_count": 45,
   "id": "e70e50cd",
   "metadata": {},
   "outputs": [
    {
     "data": {
      "text/plain": [
       "1    91238\n",
       "2     2617\n",
       "3      185\n",
       "4       30\n",
       "5        9\n",
       "Name: Frequency, dtype: int64"
      ]
     },
     "execution_count": 45,
     "metadata": {},
     "output_type": "execute_result"
    }
   ],
   "source": [
    "rfm['Frequency'].value_counts().head()"
   ]
  },
  {
   "cell_type": "markdown",
   "id": "5c269858",
   "metadata": {},
   "source": [
    "### Calcul de la Monetary value de chaque customer"
   ]
  },
  {
   "cell_type": "code",
   "execution_count": 47,
   "id": "63b175df",
   "metadata": {},
   "outputs": [
    {
     "data": {
      "text/html": [
       "<div>\n",
       "<style scoped>\n",
       "    .dataframe tbody tr th:only-of-type {\n",
       "        vertical-align: middle;\n",
       "    }\n",
       "\n",
       "    .dataframe tbody tr th {\n",
       "        vertical-align: top;\n",
       "    }\n",
       "\n",
       "    .dataframe thead th {\n",
       "        text-align: right;\n",
       "    }\n",
       "</style>\n",
       "<table border=\"1\" class=\"dataframe\">\n",
       "  <thead>\n",
       "    <tr style=\"text-align: right;\">\n",
       "      <th></th>\n",
       "      <th>customer_unique_id</th>\n",
       "      <th>Recency</th>\n",
       "      <th>Frequency</th>\n",
       "      <th>Monetary</th>\n",
       "    </tr>\n",
       "  </thead>\n",
       "  <tbody>\n",
       "    <tr>\n",
       "      <th>0</th>\n",
       "      <td>0000366f3b9a7992bf8c76cfdf3221e2</td>\n",
       "      <td>116</td>\n",
       "      <td>1</td>\n",
       "      <td>141.90</td>\n",
       "    </tr>\n",
       "    <tr>\n",
       "      <th>1</th>\n",
       "      <td>0000b849f77a49e4a4ce2b2a4ca5be3f</td>\n",
       "      <td>119</td>\n",
       "      <td>1</td>\n",
       "      <td>27.19</td>\n",
       "    </tr>\n",
       "    <tr>\n",
       "      <th>2</th>\n",
       "      <td>0000f46a3911fa3c0805444483337064</td>\n",
       "      <td>542</td>\n",
       "      <td>1</td>\n",
       "      <td>86.22</td>\n",
       "    </tr>\n",
       "    <tr>\n",
       "      <th>3</th>\n",
       "      <td>0000f6ccb0745a6a4b88665a16c9f078</td>\n",
       "      <td>326</td>\n",
       "      <td>1</td>\n",
       "      <td>43.62</td>\n",
       "    </tr>\n",
       "    <tr>\n",
       "      <th>4</th>\n",
       "      <td>0004aac84e0df4da2b147fca70cf8255</td>\n",
       "      <td>293</td>\n",
       "      <td>1</td>\n",
       "      <td>196.89</td>\n",
       "    </tr>\n",
       "  </tbody>\n",
       "</table>\n",
       "</div>"
      ],
      "text/plain": [
       "                 customer_unique_id  Recency  Frequency  Monetary\n",
       "0  0000366f3b9a7992bf8c76cfdf3221e2      116          1    141.90\n",
       "1  0000b849f77a49e4a4ce2b2a4ca5be3f      119          1     27.19\n",
       "2  0000f46a3911fa3c0805444483337064      542          1     86.22\n",
       "3  0000f6ccb0745a6a4b88665a16c9f078      326          1     43.62\n",
       "4  0004aac84e0df4da2b147fca70cf8255      293          1    196.89"
      ]
     },
     "execution_count": 47,
     "metadata": {},
     "output_type": "execute_result"
    }
   ],
   "source": [
    "rfm['Monetary'] = rfm['customer_unique_id'].apply(lambda x: orders[(orders['customer_unique_id'] == x) & \\\n",
    "                                                           (orders['order_purchase_timestamp'] >= NOW - timedelta(days=period))]\\\n",
    "                                                           ['payment_value'].sum())\n",
    "rfm.head()"
   ]
  },
  {
   "cell_type": "code",
   "execution_count": 49,
   "id": "c11f344d",
   "metadata": {},
   "outputs": [],
   "source": [
    "df_i = rfm.to_csv('RFM.csv')"
   ]
  },
  {
   "cell_type": "code",
   "execution_count": 3,
   "id": "365f200c",
   "metadata": {},
   "outputs": [],
   "source": [
    "df_RFM = pd.read_csv('RFM.csv')"
   ]
  },
  {
   "cell_type": "markdown",
   "id": "b05bd903",
   "metadata": {},
   "source": [
    "### Attribution d'une note entre 1 et 5 pour chaque critère RMF par user"
   ]
  },
  {
   "cell_type": "code",
   "execution_count": 4,
   "id": "83089cae",
   "metadata": {
    "scrolled": true
   },
   "outputs": [
    {
     "data": {
      "text/plain": [
       "{'Recency': {0.2: 97.0, 0.4: 182.0, 0.6: 273.0, 0.8: 388.0},\n",
       " 'Frequency': {0.2: 1.0, 0.4: 1.0, 0.6: 1.0, 0.8: 1.0},\n",
       " 'Monetary': {0.2: 55.95,\n",
       "  0.4: 89.75400000000002,\n",
       "  0.6: 140.02,\n",
       "  0.8: 238.65800000000004}}"
      ]
     },
     "execution_count": 4,
     "metadata": {},
     "output_type": "execute_result"
    }
   ],
   "source": [
    "quintiles = df_RFM[['Recency', 'Frequency', 'Monetary']].quantile([.2, .4, .6, .8]).to_dict()\n",
    "quintiles"
   ]
  },
  {
   "cell_type": "code",
   "execution_count": 6,
   "id": "a6876d29",
   "metadata": {},
   "outputs": [],
   "source": [
    "def r_score(x):\n",
    "    if x <= quintiles['Recency'][.2]:\n",
    "        return 5\n",
    "    elif x <= quintiles['Recency'][.4]:\n",
    "        return 4\n",
    "    elif x <= quintiles['Recency'][.6]:\n",
    "        return 3\n",
    "    elif x <= quintiles['Recency'][.8]:\n",
    "        return 2\n",
    "    else:\n",
    "        return 1\n",
    "\n",
    "def fm_score(x, c):\n",
    "    if x <= quintiles[c][.2]:\n",
    "        return 1\n",
    "    elif x <= quintiles[c][.4]:\n",
    "        return 2\n",
    "    elif x <= quintiles[c][.6]:\n",
    "        return 3\n",
    "    elif x <= quintiles[c][.8]:\n",
    "        return 4\n",
    "    else:\n",
    "        return 5    "
   ]
  },
  {
   "cell_type": "code",
   "execution_count": 11,
   "id": "0171b5f6",
   "metadata": {},
   "outputs": [
    {
     "data": {
      "text/html": [
       "<div>\n",
       "<style scoped>\n",
       "    .dataframe tbody tr th:only-of-type {\n",
       "        vertical-align: middle;\n",
       "    }\n",
       "\n",
       "    .dataframe tbody tr th {\n",
       "        vertical-align: top;\n",
       "    }\n",
       "\n",
       "    .dataframe thead th {\n",
       "        text-align: right;\n",
       "    }\n",
       "</style>\n",
       "<table border=\"1\" class=\"dataframe\">\n",
       "  <thead>\n",
       "    <tr style=\"text-align: right;\">\n",
       "      <th></th>\n",
       "      <th>Unnamed: 0</th>\n",
       "      <th>customer_unique_id</th>\n",
       "      <th>Recency</th>\n",
       "      <th>Frequency</th>\n",
       "      <th>Monetary</th>\n",
       "      <th>R</th>\n",
       "      <th>F</th>\n",
       "      <th>M</th>\n",
       "    </tr>\n",
       "  </thead>\n",
       "  <tbody>\n",
       "    <tr>\n",
       "      <th>0</th>\n",
       "      <td>0</td>\n",
       "      <td>0000366f3b9a7992bf8c76cfdf3221e2</td>\n",
       "      <td>116</td>\n",
       "      <td>1</td>\n",
       "      <td>141.90</td>\n",
       "      <td>4</td>\n",
       "      <td>1</td>\n",
       "      <td>4</td>\n",
       "    </tr>\n",
       "    <tr>\n",
       "      <th>1</th>\n",
       "      <td>1</td>\n",
       "      <td>0000b849f77a49e4a4ce2b2a4ca5be3f</td>\n",
       "      <td>119</td>\n",
       "      <td>1</td>\n",
       "      <td>27.19</td>\n",
       "      <td>4</td>\n",
       "      <td>1</td>\n",
       "      <td>1</td>\n",
       "    </tr>\n",
       "    <tr>\n",
       "      <th>2</th>\n",
       "      <td>2</td>\n",
       "      <td>0000f46a3911fa3c0805444483337064</td>\n",
       "      <td>542</td>\n",
       "      <td>1</td>\n",
       "      <td>86.22</td>\n",
       "      <td>1</td>\n",
       "      <td>1</td>\n",
       "      <td>2</td>\n",
       "    </tr>\n",
       "    <tr>\n",
       "      <th>3</th>\n",
       "      <td>3</td>\n",
       "      <td>0000f6ccb0745a6a4b88665a16c9f078</td>\n",
       "      <td>326</td>\n",
       "      <td>1</td>\n",
       "      <td>43.62</td>\n",
       "      <td>2</td>\n",
       "      <td>1</td>\n",
       "      <td>1</td>\n",
       "    </tr>\n",
       "    <tr>\n",
       "      <th>4</th>\n",
       "      <td>4</td>\n",
       "      <td>0004aac84e0df4da2b147fca70cf8255</td>\n",
       "      <td>293</td>\n",
       "      <td>1</td>\n",
       "      <td>196.89</td>\n",
       "      <td>2</td>\n",
       "      <td>1</td>\n",
       "      <td>4</td>\n",
       "    </tr>\n",
       "  </tbody>\n",
       "</table>\n",
       "</div>"
      ],
      "text/plain": [
       "   Unnamed: 0                customer_unique_id  Recency  Frequency  Monetary  \\\n",
       "0           0  0000366f3b9a7992bf8c76cfdf3221e2      116          1    141.90   \n",
       "1           1  0000b849f77a49e4a4ce2b2a4ca5be3f      119          1     27.19   \n",
       "2           2  0000f46a3911fa3c0805444483337064      542          1     86.22   \n",
       "3           3  0000f6ccb0745a6a4b88665a16c9f078      326          1     43.62   \n",
       "4           4  0004aac84e0df4da2b147fca70cf8255      293          1    196.89   \n",
       "\n",
       "   R  F  M  \n",
       "0  4  1  4  \n",
       "1  4  1  1  \n",
       "2  1  1  2  \n",
       "3  2  1  1  \n",
       "4  2  1  4  "
      ]
     },
     "execution_count": 11,
     "metadata": {},
     "output_type": "execute_result"
    }
   ],
   "source": [
    "df_RFM['R'] = df_RFM['Recency'].apply(lambda x: r_score(x))\n",
    "df_RFM['F'] = df_RFM['Frequency'].apply(lambda x: fm_score(x, 'Frequency'))\n",
    "df_RFM['M'] = df_RFM['Monetary'].apply(lambda x: fm_score(x, 'Monetary'))\n",
    "\n",
    "df_RFM.head()\n"
   ]
  },
  {
   "cell_type": "code",
   "execution_count": 8,
   "id": "a5cd0bd0",
   "metadata": {},
   "outputs": [],
   "source": [
    "df_inter = df_RFM.to_csv('RFM_final.csv')"
   ]
  }
 ],
 "metadata": {
  "kernelspec": {
   "display_name": "Python 3 (ipykernel)",
   "language": "python",
   "name": "python3"
  },
  "language_info": {
   "codemirror_mode": {
    "name": "ipython",
    "version": 3
   },
   "file_extension": ".py",
   "mimetype": "text/x-python",
   "name": "python",
   "nbconvert_exporter": "python",
   "pygments_lexer": "ipython3",
   "version": "3.9.7"
  }
 },
 "nbformat": 4,
 "nbformat_minor": 5
}
